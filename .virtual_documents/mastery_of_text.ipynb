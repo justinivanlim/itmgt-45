# Load the text from Project Gutenberg
import urllib.request

url = 'https://www.gutenberg.org/cache/epub/10/pg10.txt'
pg10 = ""

try:
    resp = urllib.request.urlopen(url)
    pg10 = resp.read().decode('utf-8')
    print("Text saved!")
except Exception as e:
    print(f"Error: {e}")
    pg10 = ""


# 1. How many lines does the string have?
count = 0
for c in pg10:
    if c == '\n':
        count = count + 1

if len(pg10) > 0 and pg10[-1] != '\n':
    count = count + 1

print(f"The string contains {count} lines.")


#2. How many words does the string have? (where a word is any set of directly-adjacent alphabet characters)
words = 0
in_word = False

for c in pg10:
    is_letter = 'a' <= c.lower() <= 'z'
    
    if is_letter == True and in_word == False:
        words = words + 1
        in_word = True
    elif is_letter == False:
        in_word = False

print(f"The string contains {words} words.")


#3. How many times does the word "apostle", ignoring capitalization, appear in the string?
text = pg10.lower()
word_list = []
word = ""

for c in text:
    if 'a' <= c <= 'z':
        word = word + c
    else:
        if word != "":
            word_list.append(word)
            word = ""

if word != "":
    word_list.append(word)

count = 0
for w in word_list:
    if w == "apostle":
        count = count + 1

print(f"The word 'apostle' appears {count} times.")


#4. What is the most common word, ignoring capitalization, in the string? (where a word is any set of directly-adjacent alphabet characters)
text = pg10.lower()
words = []
word = ""

for c in text:
    if 'a' <= c <= 'z':
        word = word + c
    else:
        if word != "":
            words.append(word)
            word = ""

if word != "":
    words.append(word)

freq = {}
for w in words:
    if w in freq:
        freq[w] = freq[w] + 1
    else:
        freq[w] = 1

common = ""
max_freq = 0

for w in freq:
    if freq[w] > max_freq:
        max_freq = freq[w]
        common = w

print(f"The most common word is '{common}', appearing {max_freq} times.")
