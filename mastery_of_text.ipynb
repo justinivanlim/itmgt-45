{
 "cells": [
  {
   "cell_type": "code",
   "execution_count": 11,
   "id": "2f31a9eb-cac1-47da-9d11-3df7f3b19d76",
   "metadata": {},
   "outputs": [
    {
     "name": "stdout",
     "output_type": "stream",
     "text": [
      "Text saved!\n"
     ]
    }
   ],
   "source": [
    "# Load the text from Project Gutenberg\n",
    "import urllib.request\n",
    "\n",
    "url = 'https://www.gutenberg.org/cache/epub/10/pg10.txt'\n",
    "pg10 = \"\"\n",
    "\n",
    "try:\n",
    "    resp = urllib.request.urlopen(url)\n",
    "    pg10 = resp.read().decode('utf-8')\n",
    "    print(\"Text saved!\")\n",
    "except Exception as e:\n",
    "    print(f\"Error: {e}\")\n",
    "    pg10 = \"\""
   ]
  },
  {
   "cell_type": "code",
   "execution_count": 12,
   "id": "d1d026b9-8186-4ba0-b699-9b058461dca3",
   "metadata": {},
   "outputs": [
    {
     "name": "stdout",
     "output_type": "stream",
     "text": [
      "The string contains 99968 lines.\n"
     ]
    }
   ],
   "source": [
    "# 1. How many lines does the string have?\n",
    "count = 0\n",
    "for c in pg10:\n",
    "    if c == '\\n':\n",
    "        count = count + 1\n",
    "\n",
    "if len(pg10) > 0 and pg10[-1] != '\\n':\n",
    "    count = count + 1\n",
    "\n",
    "print(f\"The string contains {count} lines.\")"
   ]
  },
  {
   "cell_type": "code",
   "execution_count": 13,
   "id": "43cf89c0-eb0d-4f83-a2d7-7e742554f2cd",
   "metadata": {
    "scrolled": true
   },
   "outputs": [
    {
     "name": "stdout",
     "output_type": "stream",
     "text": [
      "The string contains 795227 words.\n"
     ]
    }
   ],
   "source": [
    "#2. How many words does the string have? (where a word is any set of directly-adjacent alphabet characters)\n",
    "words = 0\n",
    "in_word = False\n",
    "\n",
    "for c in pg10:\n",
    "    is_letter = 'a' <= c.lower() <= 'z'\n",
    "    \n",
    "    if is_letter == True and in_word == False:\n",
    "        words = words + 1\n",
    "        in_word = True\n",
    "    elif is_letter == False:\n",
    "        in_word = False\n",
    "\n",
    "print(f\"The string contains {words} words.\")"
   ]
  },
  {
   "cell_type": "code",
   "execution_count": 14,
   "id": "a4d4be7a-30a4-4c15-86d3-d24402bd3ae7",
   "metadata": {},
   "outputs": [
    {
     "name": "stdout",
     "output_type": "stream",
     "text": [
      "The word 'apostle' appears 47 times.\n"
     ]
    }
   ],
   "source": [
    "#3. How many times does the word \"apostle\", ignoring capitalization, appear in the string?\n",
    "text = pg10.lower()\n",
    "word_list = []\n",
    "word = \"\"\n",
    "\n",
    "for c in text:\n",
    "    if 'a' <= c <= 'z':\n",
    "        word = word + c\n",
    "    else:\n",
    "        if word != \"\":\n",
    "            word_list.append(word)\n",
    "            word = \"\"\n",
    "\n",
    "if word != \"\":\n",
    "    word_list.append(word)\n",
    "\n",
    "count = 0\n",
    "for w in word_list:\n",
    "    if w == \"apostle\":\n",
    "        count = count + 1\n",
    "\n",
    "print(f\"The word 'apostle' appears {count} times.\")"
   ]
  },
  {
   "cell_type": "code",
   "execution_count": 15,
   "id": "c4ece27b-1940-4025-a2bb-1118474627d8",
   "metadata": {},
   "outputs": [
    {
     "name": "stdout",
     "output_type": "stream",
     "text": [
      "The most common word is 'the', appearing 64309 times.\n"
     ]
    }
   ],
   "source": [
    "#4. What is the most common word, ignoring capitalization, in the string? (where a word is any set of directly-adjacent alphabet characters)\n",
    "text = pg10.lower()\n",
    "words = []\n",
    "word = \"\"\n",
    "\n",
    "for c in text:\n",
    "    if 'a' <= c <= 'z':\n",
    "        word = word + c\n",
    "    else:\n",
    "        if word != \"\":\n",
    "            words.append(word)\n",
    "            word = \"\"\n",
    "\n",
    "if word != \"\":\n",
    "    words.append(word)\n",
    "\n",
    "freq = {}\n",
    "for w in words:\n",
    "    if w in freq:\n",
    "        freq[w] = freq[w] + 1\n",
    "    else:\n",
    "        freq[w] = 1\n",
    "\n",
    "common = \"\"\n",
    "max_freq = 0\n",
    "\n",
    "for w in freq:\n",
    "    if freq[w] > max_freq:\n",
    "        max_freq = freq[w]\n",
    "        common = w\n",
    "\n",
    "print(f\"The most common word is '{common}', appearing {max_freq} times.\")"
   ]
  },
  {
   "cell_type": "code",
   "execution_count": null,
   "id": "8b3b4973-df1b-4c11-9020-c0dccfb89dd2",
   "metadata": {},
   "outputs": [],
   "source": []
  }
 ],
 "metadata": {
  "kernelspec": {
   "display_name": "Python 3 (ipykernel)",
   "language": "python",
   "name": "python3"
  },
  "language_info": {
   "codemirror_mode": {
    "name": "ipython",
    "version": 3
   },
   "file_extension": ".py",
   "mimetype": "text/x-python",
   "name": "python",
   "nbconvert_exporter": "python",
   "pygments_lexer": "ipython3",
   "version": "3.13.5"
  }
 },
 "nbformat": 4,
 "nbformat_minor": 5
}
