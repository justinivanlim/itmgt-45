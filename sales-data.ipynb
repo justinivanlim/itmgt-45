{
 "cells": [
  {
   "cell_type": "markdown",
   "id": "accc46c1-17de-4102-84a3-e2a883545b1e",
   "metadata": {},
   "source": [
    "# Analyze sales data with Pandas"
   ]
  },
  {
   "cell_type": "code",
   "execution_count": 69,
   "id": "057de38b-b6ba-40ab-ad2e-f4c99a49259b",
   "metadata": {},
   "outputs": [],
   "source": [
    "# Initializing the libraries\n",
    "import pandas as pd\n",
    "import numpy as np\n",
    "import matplotlib.pyplot as plt\n",
    "import json"
   ]
  },
  {
   "cell_type": "code",
   "execution_count": 70,
   "id": "bf09484d-1d6a-44a2-83dc-7c54fadcc84f",
   "metadata": {},
   "outputs": [
    {
     "data": {
      "text/html": [
       "<div>\n",
       "<style scoped>\n",
       "    .dataframe tbody tr th:only-of-type {\n",
       "        vertical-align: middle;\n",
       "    }\n",
       "\n",
       "    .dataframe tbody tr th {\n",
       "        vertical-align: top;\n",
       "    }\n",
       "\n",
       "    .dataframe thead th {\n",
       "        text-align: right;\n",
       "    }\n",
       "</style>\n",
       "<table border=\"1\" class=\"dataframe\">\n",
       "  <thead>\n",
       "    <tr style=\"text-align: right;\">\n",
       "      <th></th>\n",
       "      <th>invoice_no</th>\n",
       "      <th>customer_id</th>\n",
       "      <th>category</th>\n",
       "      <th>quantity</th>\n",
       "      <th>price</th>\n",
       "      <th>payment_method</th>\n",
       "      <th>invoice_date</th>\n",
       "      <th>shopping_mall</th>\n",
       "    </tr>\n",
       "  </thead>\n",
       "  <tbody>\n",
       "    <tr>\n",
       "      <th>0</th>\n",
       "      <td>I138884</td>\n",
       "      <td>229</td>\n",
       "      <td>Clothing</td>\n",
       "      <td>5</td>\n",
       "      <td>1500.40</td>\n",
       "      <td>Credit Card</td>\n",
       "      <td>5/8/2022</td>\n",
       "      <td>Kanyon</td>\n",
       "    </tr>\n",
       "    <tr>\n",
       "      <th>1</th>\n",
       "      <td>I317333</td>\n",
       "      <td>3433</td>\n",
       "      <td>Shoes</td>\n",
       "      <td>3</td>\n",
       "      <td>1800.51</td>\n",
       "      <td>Debit Card</td>\n",
       "      <td>12/12/2021</td>\n",
       "      <td>Forum Istanbul</td>\n",
       "    </tr>\n",
       "    <tr>\n",
       "      <th>2</th>\n",
       "      <td>I127801</td>\n",
       "      <td>644</td>\n",
       "      <td>Clothing</td>\n",
       "      <td>1</td>\n",
       "      <td>300.08</td>\n",
       "      <td>Cash</td>\n",
       "      <td>9/11/2021</td>\n",
       "      <td>Metrocity</td>\n",
       "    </tr>\n",
       "    <tr>\n",
       "      <th>3</th>\n",
       "      <td>I173702</td>\n",
       "      <td>4900</td>\n",
       "      <td>Shoes</td>\n",
       "      <td>5</td>\n",
       "      <td>3000.85</td>\n",
       "      <td>Credit Card</td>\n",
       "      <td>16/05/2021</td>\n",
       "      <td>Metropol AVM</td>\n",
       "    </tr>\n",
       "    <tr>\n",
       "      <th>4</th>\n",
       "      <td>I337046</td>\n",
       "      <td>1089</td>\n",
       "      <td>Books</td>\n",
       "      <td>4</td>\n",
       "      <td>60.60</td>\n",
       "      <td>Cash</td>\n",
       "      <td>24/10/2021</td>\n",
       "      <td>Kanyon</td>\n",
       "    </tr>\n",
       "    <tr>\n",
       "      <th>...</th>\n",
       "      <td>...</td>\n",
       "      <td>...</td>\n",
       "      <td>...</td>\n",
       "      <td>...</td>\n",
       "      <td>...</td>\n",
       "      <td>...</td>\n",
       "      <td>...</td>\n",
       "      <td>...</td>\n",
       "    </tr>\n",
       "    <tr>\n",
       "      <th>99452</th>\n",
       "      <td>I219422</td>\n",
       "      <td>2344</td>\n",
       "      <td>Souvenir</td>\n",
       "      <td>5</td>\n",
       "      <td>58.65</td>\n",
       "      <td>Credit Card</td>\n",
       "      <td>21/09/2022</td>\n",
       "      <td>Kanyon</td>\n",
       "    </tr>\n",
       "    <tr>\n",
       "      <th>99453</th>\n",
       "      <td>I325143</td>\n",
       "      <td>172</td>\n",
       "      <td>Food &amp; Beverage</td>\n",
       "      <td>2</td>\n",
       "      <td>10.46</td>\n",
       "      <td>Cash</td>\n",
       "      <td>22/09/2021</td>\n",
       "      <td>Forum Istanbul</td>\n",
       "    </tr>\n",
       "    <tr>\n",
       "      <th>99454</th>\n",
       "      <td>I824010</td>\n",
       "      <td>425</td>\n",
       "      <td>Food &amp; Beverage</td>\n",
       "      <td>2</td>\n",
       "      <td>10.46</td>\n",
       "      <td>Debit Card</td>\n",
       "      <td>28/03/2021</td>\n",
       "      <td>Metrocity</td>\n",
       "    </tr>\n",
       "    <tr>\n",
       "      <th>99455</th>\n",
       "      <td>I702964</td>\n",
       "      <td>577</td>\n",
       "      <td>Technology</td>\n",
       "      <td>4</td>\n",
       "      <td>4200.00</td>\n",
       "      <td>Cash</td>\n",
       "      <td>16/03/2021</td>\n",
       "      <td>Istinye Park</td>\n",
       "    </tr>\n",
       "    <tr>\n",
       "      <th>99456</th>\n",
       "      <td>I232867</td>\n",
       "      <td>30</td>\n",
       "      <td>Souvenir</td>\n",
       "      <td>3</td>\n",
       "      <td>35.19</td>\n",
       "      <td>Credit Card</td>\n",
       "      <td>15/10/2022</td>\n",
       "      <td>Mall of Istanbul</td>\n",
       "    </tr>\n",
       "  </tbody>\n",
       "</table>\n",
       "<p>99457 rows × 8 columns</p>\n",
       "</div>"
      ],
      "text/plain": [
       "      invoice_no  customer_id         category  quantity    price  \\\n",
       "0        I138884          229         Clothing         5  1500.40   \n",
       "1        I317333         3433            Shoes         3  1800.51   \n",
       "2        I127801          644         Clothing         1   300.08   \n",
       "3        I173702         4900            Shoes         5  3000.85   \n",
       "4        I337046         1089            Books         4    60.60   \n",
       "...          ...          ...              ...       ...      ...   \n",
       "99452    I219422         2344         Souvenir         5    58.65   \n",
       "99453    I325143          172  Food & Beverage         2    10.46   \n",
       "99454    I824010          425  Food & Beverage         2    10.46   \n",
       "99455    I702964          577       Technology         4  4200.00   \n",
       "99456    I232867           30         Souvenir         3    35.19   \n",
       "\n",
       "      payment_method invoice_date     shopping_mall  \n",
       "0        Credit Card     5/8/2022            Kanyon  \n",
       "1         Debit Card   12/12/2021    Forum Istanbul  \n",
       "2               Cash    9/11/2021         Metrocity  \n",
       "3        Credit Card   16/05/2021      Metropol AVM  \n",
       "4               Cash   24/10/2021            Kanyon  \n",
       "...              ...          ...               ...  \n",
       "99452    Credit Card   21/09/2022            Kanyon  \n",
       "99453           Cash   22/09/2021    Forum Istanbul  \n",
       "99454     Debit Card   28/03/2021         Metrocity  \n",
       "99455           Cash   16/03/2021      Istinye Park  \n",
       "99456    Credit Card   15/10/2022  Mall of Istanbul  \n",
       "\n",
       "[99457 rows x 8 columns]"
      ]
     },
     "execution_count": 70,
     "metadata": {},
     "output_type": "execute_result"
    }
   ],
   "source": [
    "# Obtaining the customer data and invoice dataframe\n",
    "with open('dim_customer.json') as f:\n",
    "\tdata = json.load(f)\n",
    "df = pd.read_csv('fct_invoice.csv')\n",
    "df"
   ]
  },
  {
   "cell_type": "markdown",
   "id": "4455e603-c6e9-44bc-9614-f43202072b9c",
   "metadata": {},
   "source": [
    "# Easy"
   ]
  },
  {
   "cell_type": "markdown",
   "id": "72cb0813-0f9d-4f81-a500-56cec0b48501",
   "metadata": {},
   "source": [
    "**1. How many unique customers are in the dataset?**"
   ]
  },
  {
   "cell_type": "code",
   "execution_count": 71,
   "id": "5e029c75-024e-4ec9-ab89-fbe1d578c059",
   "metadata": {},
   "outputs": [
    {
     "name": "stdout",
     "output_type": "stream",
     "text": [
      "There are 5191 unique customers in the dataset\n"
     ]
    }
   ],
   "source": [
    "# Count the number of unique customer ids\n",
    "unique_customer = df['customer_id'].nunique()\n",
    "print(f\"There are {unique_customer} unique customers in the dataset\")"
   ]
  },
  {
   "cell_type": "markdown",
   "id": "7c815456-0683-4254-a2f7-050748b72920",
   "metadata": {},
   "source": [
    "**2. What are the different categories of products available? How many unique categories are there?**"
   ]
  },
  {
   "cell_type": "code",
   "execution_count": 72,
   "id": "08f6c1e5-1d5b-4d3e-8e9c-81d10697bb98",
   "metadata": {},
   "outputs": [
    {
     "name": "stdout",
     "output_type": "stream",
     "text": [
      "The different product categories are: ['Clothing' 'Shoes' 'Books' 'Cosmetics' 'Food & Beverage' 'Toys'\n",
      " 'Technology' 'Souvenir']\n",
      "There are 8 unique categories in the dataset\n"
     ]
    }
   ],
   "source": [
    "# Identify every product category\n",
    "product_category = df['category'].unique()\n",
    "print(f\"The different product categories are: {product_category}\")\n",
    "\n",
    "# Count the number of unique categories\n",
    "unique_category = df['category'].nunique()\n",
    "print(f\"There are {unique_category} unique categories in the dataset\")"
   ]
  },
  {
   "cell_type": "markdown",
   "id": "35430c0d-7db0-4cfd-a030-922002409197",
   "metadata": {},
   "source": [
    "**3. Which payment method is the most popular? How many times was it used?**"
   ]
  },
  {
   "cell_type": "code",
   "execution_count": 73,
   "id": "b2d71880-4ff9-410e-bb00-455f4b807340",
   "metadata": {},
   "outputs": [
    {
     "name": "stdout",
     "output_type": "stream",
     "text": [
      "The most popular payment method is: Cash\n",
      "Cash was used 44447 times\n"
     ]
    }
   ],
   "source": [
    "# Identify the most popular payment method\n",
    "all_payment = df['payment_method'].value_counts()\n",
    "popular_payment = all_payment.index[0]\n",
    "print(f\"The most popular payment method is: {popular_payment}\")\n",
    "\n",
    "# Count how many times it was used\n",
    "payment_usage = df['payment_method'].value_counts().max()\n",
    "print(f\"{popular_payment} was used {payment_usage} times\")"
   ]
  },
  {
   "cell_type": "markdown",
   "id": "c831fefb-cccb-4266-b05e-c9d4db0ae046",
   "metadata": {},
   "source": [
    "# Medium"
   ]
  },
  {
   "cell_type": "markdown",
   "id": "9c20da00-676d-40d0-bd3f-3aa9957a9713",
   "metadata": {},
   "source": [
    "**1. What are the three most popular categories, by total sales?**"
   ]
  },
  {
   "cell_type": "code",
   "execution_count": 74,
   "id": "ebaa454e-5a72-41b0-bcc4-7e009f9c1caa",
   "metadata": {},
   "outputs": [
    {
     "name": "stdout",
     "output_type": "stream",
     "text": [
      "The three most popular categories are: ['Clothing', 'Cosmetics', 'Food & Beverage']\n"
     ]
    }
   ],
   "source": [
    "# Identify top 3 most popular categories\n",
    "top_three = df['category'].value_counts().head(3).index.to_list()\n",
    "print(f\"The three most popular categories are: {top_three}\")"
   ]
  },
  {
   "cell_type": "markdown",
   "id": "f82efce6-8f20-4f42-b009-ae9d280f5081",
   "metadata": {},
   "source": [
    "**2. What are the total sales attributed to customers over the age of 45?**"
   ]
  },
  {
   "cell_type": "code",
   "execution_count": null,
   "id": "563e316c-7507-43fa-84a6-5c16d3be807e",
   "metadata": {},
   "outputs": [],
   "source": [
    "# Obtain total sales attributed to customers over the age of 45"
   ]
  },
  {
   "cell_type": "markdown",
   "id": "f3fcab99-7141-45eb-88dc-b51620bf6b27",
   "metadata": {},
   "source": [
    "**3. How is the data distributed across different invoice dates? Are there any seasonal trends or patterns? (Use a graph for this.)**"
   ]
  },
  {
   "cell_type": "code",
   "execution_count": null,
   "id": "ef5713c9-4aa5-42cc-892c-d4e40488e085",
   "metadata": {},
   "outputs": [],
   "source": []
  },
  {
   "cell_type": "markdown",
   "id": "b5b7f61e-b99a-4e88-af7e-206a0f0b92cf",
   "metadata": {},
   "source": [
    "# Hard"
   ]
  },
  {
   "cell_type": "markdown",
   "id": "c1c2d75e-a456-4edf-8999-7d95feefe465",
   "metadata": {},
   "source": [
    "**1. Create a pivot table showing the breakdown of sales across these dimensions, in this order: category, decade age range (e.g., 10-19, 20-29, and so forth).**"
   ]
  },
  {
   "cell_type": "code",
   "execution_count": null,
   "id": "14f7b76e-4f11-4be4-9e4e-07f3eac3c38c",
   "metadata": {},
   "outputs": [],
   "source": []
  }
 ],
 "metadata": {
  "kernelspec": {
   "display_name": "Python 3 (ipykernel)",
   "language": "python",
   "name": "python3"
  },
  "language_info": {
   "codemirror_mode": {
    "name": "ipython",
    "version": 3
   },
   "file_extension": ".py",
   "mimetype": "text/x-python",
   "name": "python",
   "nbconvert_exporter": "python",
   "pygments_lexer": "ipython3",
   "version": "3.13.5"
  }
 },
 "nbformat": 4,
 "nbformat_minor": 5
}
